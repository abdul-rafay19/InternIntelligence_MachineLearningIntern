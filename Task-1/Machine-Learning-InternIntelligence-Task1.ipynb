{
 "cells": [
  {
   "cell_type": "code",
   "execution_count": 1,
   "id": "bd647e03",
   "metadata": {},
   "outputs": [],
   "source": [
    "import numpy as np\n",
    "import pandas as pd\n",
    "from sklearn.datasets import load_iris\n",
    "from sklearn.model_selection import train_test_split\n",
    "\n",
    "data = load_iris()\n",
    "X = data.data\n",
    "y = data.target\n",
    "\n",
    "X_train, X_test, y_train, y_test = train_test_split(X, y, test_size=0.2, random_state=42)\n"
   ]
  },
  {
   "cell_type": "code",
   "execution_count": 2,
   "id": "34b60115",
   "metadata": {},
   "outputs": [],
   "source": [
    "from sklearn.ensemble import RandomForestClassifier\n",
    "model = RandomForestClassifier(random_state=42)\n"
   ]
  },
  {
   "cell_type": "code",
   "execution_count": 3,
   "id": "70ce9922",
   "metadata": {},
   "outputs": [
    {
     "name": "stdout",
     "output_type": "stream",
     "text": [
      "Best hyperparameters: {'max_depth': None, 'min_samples_leaf': 2, 'min_samples_split': 2, 'n_estimators': 200}\n"
     ]
    }
   ],
   "source": [
    "from sklearn.model_selection import GridSearchCV\n",
    "\n",
    "# hyperparameter grid\n",
    "param_grid = {\n",
    "    'n_estimators': [50, 100, 200],\n",
    "    'max_depth': [None, 10, 20, 30],\n",
    "    'min_samples_split': [2, 5, 10],\n",
    "    'min_samples_leaf': [1, 2, 4],\n",
    "}\n",
    "\n",
    "# GridSearchCV object\n",
    "grid_search = GridSearchCV(estimator=model, param_grid=param_grid, cv=5, scoring='accuracy')\n",
    "\n",
    "# Fitting the model\n",
    "grid_search.fit(X_train, y_train)\n",
    "\n",
    "# The Best Parameters\n",
    "print(\"Best hyperparameters:\", grid_search.best_params_)\n"
   ]
  },
  {
   "cell_type": "code",
   "execution_count": 4,
   "id": "4c9ee643",
   "metadata": {},
   "outputs": [
    {
     "name": "stdout",
     "output_type": "stream",
     "text": [
      "Best CV accuracy from GridSearch: 0.9583333333333334\n"
     ]
    }
   ],
   "source": [
    "print(\"Best CV accuracy from GridSearch:\", grid_search.best_score_)"
   ]
  },
  {
   "cell_type": "code",
   "execution_count": 5,
   "id": "98e38f87",
   "metadata": {},
   "outputs": [
    {
     "name": "stdout",
     "output_type": "stream",
     "text": [
      "Best hyperparameters: {'n_estimators': np.int64(200), 'min_samples_split': 2, 'min_samples_leaf': 2, 'max_depth': 10}\n"
     ]
    }
   ],
   "source": [
    "from sklearn.model_selection import RandomizedSearchCV\n",
    "\n",
    "# hyperparameter distribution\n",
    "param_dist = {\n",
    "    'n_estimators': np.arange(50, 201, 50),\n",
    "    'max_depth': [None, 10, 20, 30],\n",
    "    'min_samples_split': [2, 5, 10],\n",
    "    'min_samples_leaf': [1, 2, 4],\n",
    "}\n",
    "\n",
    "# RandomizedSearchCV object\n",
    "random_search = RandomizedSearchCV(estimator=model, param_distributions=param_dist, n_iter=100, cv=5, scoring='accuracy', random_state=42)\n",
    "\n",
    "# Fitting the model\n",
    "random_search.fit(X_train, y_train)\n",
    "\n",
    "# The Best Parameters\n",
    "print(\"Best hyperparameters:\", random_search.best_params_)\n"
   ]
  },
  {
   "cell_type": "code",
   "execution_count": 6,
   "id": "4670ad97",
   "metadata": {},
   "outputs": [
    {
     "name": "stdout",
     "output_type": "stream",
     "text": [
      "Best CV accuracy from RandomSearch: 0.9583333333333334\n"
     ]
    }
   ],
   "source": [
    "print(\"Best CV accuracy from RandomSearch:\", random_search.best_score_)"
   ]
  },
  {
   "cell_type": "code",
   "execution_count": 7,
   "id": "60d5179f",
   "metadata": {},
   "outputs": [
    {
     "name": "stdout",
     "output_type": "stream",
     "text": [
      "Cross-validation accuracy scores: [0.95833333 1.         0.875      1.         0.95833333]\n",
      "Mean accuracy: 0.9583333333333334\n",
      "Classification report:\n",
      "               precision    recall  f1-score   support\n",
      "\n",
      "           0       1.00      1.00      1.00        10\n",
      "           1       1.00      1.00      1.00         9\n",
      "           2       1.00      1.00      1.00        11\n",
      "\n",
      "    accuracy                           1.00        30\n",
      "   macro avg       1.00      1.00      1.00        30\n",
      "weighted avg       1.00      1.00      1.00        30\n",
      "\n"
     ]
    }
   ],
   "source": [
    "from sklearn.metrics import classification_report\n",
    "from sklearn.model_selection import cross_val_score\n",
    "\n",
    "best_model = grid_search.best_estimator_ \n",
    "\n",
    "# Calculate cross-validation scores\n",
    "cv_scores = cross_val_score(best_model, X_train, y_train, cv=5)\n",
    "print(\"Cross-validation accuracy scores:\", cv_scores)\n",
    "print(\"Mean accuracy:\", cv_scores.mean())\n",
    "\n",
    "# Evaluations using the test set\n",
    "y_pred = best_model.predict(X_test)\n",
    "print(\"Classification report:\\n\", classification_report(y_test, y_pred))\n"
   ]
  },
  {
   "cell_type": "code",
   "execution_count": null,
   "id": "72daf495",
   "metadata": {},
   "outputs": [
    {
     "name": "stderr",
     "output_type": "stream",
     "text": [
      "C:\\Users\\fiar fly\\AppData\\Roaming\\Python\\Python313\\site-packages\\tqdm\\auto.py:21: TqdmWarning: IProgress not found. Please update jupyter and ipywidgets. See https://ipywidgets.readthedocs.io/en/stable/user_install.html\n",
      "  from .autonotebook import tqdm as notebook_tqdm\n",
      "[I 2025-04-06 18:11:09,866] A new study created in memory with name: no-name-581d69fc-d15a-426b-96aa-3f6c42a54f40\n",
      "[I 2025-04-06 18:11:10,073] Trial 0 finished with value: 1.0 and parameters: {'n_estimators': 50, 'max_depth': 18, 'min_samples_split': 7, 'min_samples_leaf': 4}. Best is trial 0 with value: 1.0.\n",
      "[I 2025-04-06 18:11:10,506] Trial 1 finished with value: 1.0 and parameters: {'n_estimators': 150, 'max_depth': 19, 'min_samples_split': 9, 'min_samples_leaf': 1}. Best is trial 0 with value: 1.0.\n",
      "[I 2025-04-06 18:11:10,779] Trial 2 finished with value: 1.0 and parameters: {'n_estimators': 100, 'max_depth': 6, 'min_samples_split': 4, 'min_samples_leaf': 4}. Best is trial 0 with value: 1.0.\n",
      "[I 2025-04-06 18:11:11,430] Trial 3 finished with value: 1.0 and parameters: {'n_estimators': 150, 'max_depth': 8, 'min_samples_split': 7, 'min_samples_leaf': 4}. Best is trial 0 with value: 1.0.\n",
      "[I 2025-04-06 18:11:11,922] Trial 4 finished with value: 1.0 and parameters: {'n_estimators': 150, 'max_depth': 17, 'min_samples_split': 3, 'min_samples_leaf': 2}. Best is trial 0 with value: 1.0.\n",
      "[I 2025-04-06 18:11:12,468] Trial 5 finished with value: 1.0 and parameters: {'n_estimators': 200, 'max_depth': 6, 'min_samples_split': 4, 'min_samples_leaf': 3}. Best is trial 0 with value: 1.0.\n",
      "[I 2025-04-06 18:11:12,624] Trial 6 finished with value: 1.0 and parameters: {'n_estimators': 50, 'max_depth': 6, 'min_samples_split': 9, 'min_samples_leaf': 4}. Best is trial 0 with value: 1.0.\n",
      "[I 2025-04-06 18:11:13,186] Trial 7 finished with value: 1.0 and parameters: {'n_estimators': 150, 'max_depth': 7, 'min_samples_split': 6, 'min_samples_leaf': 4}. Best is trial 0 with value: 1.0.\n",
      "[I 2025-04-06 18:11:13,303] Trial 8 finished with value: 1.0 and parameters: {'n_estimators': 50, 'max_depth': 8, 'min_samples_split': 6, 'min_samples_leaf': 4}. Best is trial 0 with value: 1.0.\n",
      "[I 2025-04-06 18:11:13,702] Trial 9 finished with value: 1.0 and parameters: {'n_estimators': 150, 'max_depth': 16, 'min_samples_split': 8, 'min_samples_leaf': 1}. Best is trial 0 with value: 1.0.\n",
      "[I 2025-04-06 18:11:13,957] Trial 10 finished with value: 1.0 and parameters: {'n_estimators': 50, 'max_depth': 13, 'min_samples_split': 10, 'min_samples_leaf': 3}. Best is trial 0 with value: 1.0.\n",
      "[I 2025-04-06 18:11:14,395] Trial 11 finished with value: 1.0 and parameters: {'n_estimators': 100, 'max_depth': 20, 'min_samples_split': 10, 'min_samples_leaf': 1}. Best is trial 0 with value: 1.0.\n",
      "[I 2025-04-06 18:11:15,017] Trial 12 finished with value: 1.0 and parameters: {'n_estimators': 200, 'max_depth': 20, 'min_samples_split': 8, 'min_samples_leaf': 2}. Best is trial 0 with value: 1.0.\n",
      "[I 2025-04-06 18:11:15,382] Trial 13 finished with value: 1.0 and parameters: {'n_estimators': 100, 'max_depth': 17, 'min_samples_split': 7, 'min_samples_leaf': 2}. Best is trial 0 with value: 1.0.\n",
      "[I 2025-04-06 18:11:15,777] Trial 14 finished with value: 1.0 and parameters: {'n_estimators': 100, 'max_depth': 13, 'min_samples_split': 8, 'min_samples_leaf': 3}. Best is trial 0 with value: 1.0.\n",
      "[I 2025-04-06 18:11:16,542] Trial 15 finished with value: 1.0 and parameters: {'n_estimators': 200, 'max_depth': 15, 'min_samples_split': 5, 'min_samples_leaf': 1}. Best is trial 0 with value: 1.0.\n",
      "[I 2025-04-06 18:11:16,785] Trial 16 finished with value: 1.0 and parameters: {'n_estimators': 50, 'max_depth': 19, 'min_samples_split': 9, 'min_samples_leaf': 2}. Best is trial 0 with value: 1.0.\n",
      "[I 2025-04-06 18:11:17,198] Trial 17 finished with value: 1.0 and parameters: {'n_estimators': 100, 'max_depth': 10, 'min_samples_split': 7, 'min_samples_leaf': 3}. Best is trial 0 with value: 1.0.\n",
      "[I 2025-04-06 18:11:17,717] Trial 18 finished with value: 1.0 and parameters: {'n_estimators': 150, 'max_depth': 18, 'min_samples_split': 2, 'min_samples_leaf': 1}. Best is trial 0 with value: 1.0.\n",
      "[I 2025-04-06 18:11:18,431] Trial 19 finished with value: 1.0 and parameters: {'n_estimators': 200, 'max_depth': 15, 'min_samples_split': 9, 'min_samples_leaf': 2}. Best is trial 0 with value: 1.0.\n",
      "[I 2025-04-06 18:11:18,649] Trial 20 finished with value: 1.0 and parameters: {'n_estimators': 50, 'max_depth': 10, 'min_samples_split': 6, 'min_samples_leaf': 3}. Best is trial 0 with value: 1.0.\n",
      "[I 2025-04-06 18:11:19,248] Trial 21 finished with value: 1.0 and parameters: {'n_estimators': 100, 'max_depth': 11, 'min_samples_split': 5, 'min_samples_leaf': 4}. Best is trial 0 with value: 1.0.\n",
      "[I 2025-04-06 18:11:19,913] Trial 22 finished with value: 1.0 and parameters: {'n_estimators': 100, 'max_depth': 18, 'min_samples_split': 4, 'min_samples_leaf': 4}. Best is trial 0 with value: 1.0.\n",
      "[I 2025-04-06 18:11:20,604] Trial 23 finished with value: 1.0 and parameters: {'n_estimators': 150, 'max_depth': 14, 'min_samples_split': 2, 'min_samples_leaf': 4}. Best is trial 0 with value: 1.0.\n",
      "[I 2025-04-06 18:11:20,831] Trial 24 finished with value: 1.0 and parameters: {'n_estimators': 50, 'max_depth': 5, 'min_samples_split': 4, 'min_samples_leaf': 3}. Best is trial 0 with value: 1.0.\n",
      "[I 2025-04-06 18:11:21,207] Trial 25 finished with value: 1.0 and parameters: {'n_estimators': 100, 'max_depth': 11, 'min_samples_split': 5, 'min_samples_leaf': 4}. Best is trial 0 with value: 1.0.\n",
      "[I 2025-04-06 18:11:21,662] Trial 26 finished with value: 1.0 and parameters: {'n_estimators': 150, 'max_depth': 19, 'min_samples_split': 8, 'min_samples_leaf': 3}. Best is trial 0 with value: 1.0.\n",
      "[I 2025-04-06 18:11:21,901] Trial 27 finished with value: 1.0 and parameters: {'n_estimators': 100, 'max_depth': 16, 'min_samples_split': 3, 'min_samples_leaf': 1}. Best is trial 0 with value: 1.0.\n",
      "[I 2025-04-06 18:11:22,063] Trial 28 finished with value: 1.0 and parameters: {'n_estimators': 50, 'max_depth': 18, 'min_samples_split': 10, 'min_samples_leaf': 4}. Best is trial 0 with value: 1.0.\n",
      "[I 2025-04-06 18:11:22,477] Trial 29 finished with value: 1.0 and parameters: {'n_estimators': 150, 'max_depth': 9, 'min_samples_split': 7, 'min_samples_leaf': 4}. Best is trial 0 with value: 1.0.\n",
      "[I 2025-04-06 18:11:22,802] Trial 30 finished with value: 1.0 and parameters: {'n_estimators': 100, 'max_depth': 20, 'min_samples_split': 6, 'min_samples_leaf': 2}. Best is trial 0 with value: 1.0.\n",
      "[I 2025-04-06 18:11:23,165] Trial 31 finished with value: 1.0 and parameters: {'n_estimators': 150, 'max_depth': 8, 'min_samples_split': 7, 'min_samples_leaf': 4}. Best is trial 0 with value: 1.0.\n",
      "[I 2025-04-06 18:11:23,617] Trial 32 finished with value: 1.0 and parameters: {'n_estimators': 150, 'max_depth': 5, 'min_samples_split': 3, 'min_samples_leaf': 4}. Best is trial 0 with value: 1.0.\n",
      "[I 2025-04-06 18:11:24,164] Trial 33 finished with value: 1.0 and parameters: {'n_estimators': 150, 'max_depth': 7, 'min_samples_split': 9, 'min_samples_leaf': 3}. Best is trial 0 with value: 1.0.\n",
      "[I 2025-04-06 18:11:24,661] Trial 34 finished with value: 1.0 and parameters: {'n_estimators': 150, 'max_depth': 6, 'min_samples_split': 7, 'min_samples_leaf': 4}. Best is trial 0 with value: 1.0.\n",
      "[I 2025-04-06 18:11:25,287] Trial 35 finished with value: 1.0 and parameters: {'n_estimators': 200, 'max_depth': 7, 'min_samples_split': 5, 'min_samples_leaf': 4}. Best is trial 0 with value: 1.0.\n",
      "[I 2025-04-06 18:11:25,878] Trial 36 finished with value: 1.0 and parameters: {'n_estimators': 150, 'max_depth': 8, 'min_samples_split': 4, 'min_samples_leaf': 3}. Best is trial 0 with value: 1.0.\n",
      "[I 2025-04-06 18:11:26,124] Trial 37 finished with value: 1.0 and parameters: {'n_estimators': 50, 'max_depth': 6, 'min_samples_split': 6, 'min_samples_leaf': 4}. Best is trial 0 with value: 1.0.\n",
      "[I 2025-04-06 18:11:26,679] Trial 38 finished with value: 1.0 and parameters: {'n_estimators': 200, 'max_depth': 17, 'min_samples_split': 8, 'min_samples_leaf': 3}. Best is trial 0 with value: 1.0.\n",
      "[I 2025-04-06 18:11:27,229] Trial 39 finished with value: 1.0 and parameters: {'n_estimators': 150, 'max_depth': 9, 'min_samples_split': 8, 'min_samples_leaf': 4}. Best is trial 0 with value: 1.0.\n",
      "[I 2025-04-06 18:11:27,463] Trial 40 finished with value: 1.0 and parameters: {'n_estimators': 50, 'max_depth': 12, 'min_samples_split': 9, 'min_samples_leaf': 1}. Best is trial 0 with value: 1.0.\n",
      "[I 2025-04-06 18:11:27,995] Trial 41 finished with value: 1.0 and parameters: {'n_estimators': 150, 'max_depth': 19, 'min_samples_split': 3, 'min_samples_leaf': 2}. Best is trial 0 with value: 1.0.\n",
      "[I 2025-04-06 18:11:28,678] Trial 42 finished with value: 1.0 and parameters: {'n_estimators': 150, 'max_depth': 17, 'min_samples_split': 3, 'min_samples_leaf': 1}. Best is trial 0 with value: 1.0.\n",
      "[I 2025-04-06 18:11:29,632] Trial 43 finished with value: 1.0 and parameters: {'n_estimators': 150, 'max_depth': 16, 'min_samples_split': 4, 'min_samples_leaf': 2}. Best is trial 0 with value: 1.0.\n",
      "[I 2025-04-06 18:11:30,022] Trial 44 finished with value: 1.0 and parameters: {'n_estimators': 100, 'max_depth': 15, 'min_samples_split': 2, 'min_samples_leaf': 1}. Best is trial 0 with value: 1.0.\n",
      "[I 2025-04-06 18:11:30,837] Trial 45 finished with value: 1.0 and parameters: {'n_estimators': 200, 'max_depth': 19, 'min_samples_split': 7, 'min_samples_leaf': 2}. Best is trial 0 with value: 1.0.\n",
      "[I 2025-04-06 18:11:31,856] Trial 46 finished with value: 1.0 and parameters: {'n_estimators': 150, 'max_depth': 20, 'min_samples_split': 10, 'min_samples_leaf': 2}. Best is trial 0 with value: 1.0.\n",
      "[I 2025-04-06 18:11:32,655] Trial 47 finished with value: 1.0 and parameters: {'n_estimators': 100, 'max_depth': 18, 'min_samples_split': 5, 'min_samples_leaf': 3}. Best is trial 0 with value: 1.0.\n",
      "[I 2025-04-06 18:11:33,882] Trial 48 finished with value: 1.0 and parameters: {'n_estimators': 150, 'max_depth': 14, 'min_samples_split': 6, 'min_samples_leaf': 1}. Best is trial 0 with value: 1.0.\n",
      "[I 2025-04-06 18:11:34,260] Trial 49 finished with value: 1.0 and parameters: {'n_estimators': 50, 'max_depth': 17, 'min_samples_split': 8, 'min_samples_leaf': 4}. Best is trial 0 with value: 1.0.\n"
     ]
    },
    {
     "name": "stdout",
     "output_type": "stream",
     "text": [
      "Best hyperparameters: {'n_estimators': 50, 'max_depth': 18, 'min_samples_split': 7, 'min_samples_leaf': 4}\n"
     ]
    }
   ],
   "source": [
    "import optuna\n",
    "from sklearn.metrics import accuracy_score\n",
    "\n",
    "# Using Optuna\n",
    "def objective(trial):\n",
    "    n_estimators = trial.suggest_int('n_estimators', 50, 200, step=50)\n",
    "    max_depth = trial.suggest_int('max_depth', 5, 20)\n",
    "    min_samples_split = trial.suggest_int('min_samples_split', 2, 10)\n",
    "    min_samples_leaf = trial.suggest_int('min_samples_leaf', 1, 4)\n",
    "    \n",
    "    model = RandomForestClassifier(n_estimators=n_estimators, max_depth=max_depth, \n",
    "                                   min_samples_split=min_samples_split, min_samples_leaf=min_samples_leaf, random_state=42)\n",
    "    \n",
    "    # Evaluate the model using cross-validation\n",
    "    model.fit(X_train, y_train)\n",
    "    y_pred = model.predict(X_test)\n",
    "    accuracy = accuracy_score(y_test, y_pred)\n",
    "    \n",
    "    return accuracy\n",
    "\n",
    "# Creating Optuna\n",
    "study = optuna.create_study(direction='maximize')\n",
    "study.optimize(objective, n_trials=50)\n"
   ]
  },
  {
   "cell_type": "code",
   "execution_count": 9,
   "id": "8f7257fe",
   "metadata": {},
   "outputs": [
    {
     "name": "stdout",
     "output_type": "stream",
     "text": [
      "Best hyperparameters from Optuna: {'n_estimators': 50, 'max_depth': 18, 'min_samples_split': 7, 'min_samples_leaf': 4}\n",
      "Best accuracy from Optuna: 1.0\n"
     ]
    }
   ],
   "source": [
    "print(\"Best hyperparameters from Optuna:\", study.best_params)\n",
    "print(\"Best accuracy from Optuna:\", study.best_value)"
   ]
  }
 ],
 "metadata": {
  "kernelspec": {
   "display_name": "Python 3",
   "language": "python",
   "name": "python3"
  },
  "language_info": {
   "codemirror_mode": {
    "name": "ipython",
    "version": 3
   },
   "file_extension": ".py",
   "mimetype": "text/x-python",
   "name": "python",
   "nbconvert_exporter": "python",
   "pygments_lexer": "ipython3",
   "version": "3.13.1"
  }
 },
 "nbformat": 4,
 "nbformat_minor": 5
}
